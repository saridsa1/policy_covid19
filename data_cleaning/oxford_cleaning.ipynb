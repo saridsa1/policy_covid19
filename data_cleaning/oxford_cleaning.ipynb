{
 "cells": [
  {
   "cell_type": "code",
   "execution_count": 1,
   "metadata": {},
   "outputs": [],
   "source": [
    "import numpy as np \n",
    "import pandas as pd \n",
    "from scipy.interpolate import interp1d"
   ]
  },
  {
   "cell_type": "code",
   "execution_count": 2,
   "metadata": {},
   "outputs": [],
   "source": [
    "oxford_df = pd.read_csv('../raw_data/oxford_dataset.csv')"
   ]
  },
  {
   "cell_type": "code",
   "execution_count": 3,
   "metadata": {},
   "outputs": [],
   "source": [
    "oxford_df['Date']=pd.to_datetime(oxford_df['Date'], format='%Y%m%d')"
   ]
  },
  {
   "cell_type": "code",
   "execution_count": 4,
   "metadata": {},
   "outputs": [],
   "source": [
    "oxford_df['ConfirmedCases'].fillna(0, inplace = True)\n",
    "oxford_df['ConfirmedDeaths'].fillna(0, inplace = True)"
   ]
  },
  {
   "cell_type": "code",
   "execution_count": 5,
   "metadata": {},
   "outputs": [],
   "source": [
    "OXFORD_LENGTH_OF_TIME =146"
   ]
  },
  {
   "cell_type": "code",
   "execution_count": 6,
   "metadata": {},
   "outputs": [],
   "source": [
    "# going to interpolate all *ForDisplay "
   ]
  },
  {
   "cell_type": "code",
   "execution_count": 7,
   "metadata": {},
   "outputs": [],
   "source": [
    "def interpolate_data(data):\n",
    "    if np.count_nonzero(data) < 1: # absolutely no data or one data point \n",
    "        print(\"no data to interpolate\")\n",
    "        a = np.zeros(len(data))\n",
    "        return a\n",
    "    indice, = data.nonzero()\n",
    "    start, stop = indice[0], indice[-1]+1\n",
    "\n",
    "    x = np.arange(len(data))\n",
    "    f = interp1d(x[indice], data[indice])\n",
    "    data[start:stop] = f(x[start:stop])\n",
    "    return data"
   ]
  },
  {
   "cell_type": "code",
   "execution_count": null,
   "metadata": {},
   "outputs": [],
   "source": []
  },
  {
   "cell_type": "code",
   "execution_count": 8,
   "metadata": {
    "scrolled": true
   },
   "outputs": [
    {
     "name": "stderr",
     "output_type": "stream",
     "text": [
      "/Users/thomastran/opt/anaconda3/lib/python3.7/site-packages/ipykernel_launcher.py:13: SettingWithCopyWarning: \n",
      "A value is trying to be set on a copy of a slice from a DataFrame\n",
      "\n",
      "See the caveats in the documentation: http://pandas.pydata.org/pandas-docs/stable/user_guide/indexing.html#returning-a-view-versus-a-copy\n",
      "  del sys.path[0]\n"
     ]
    },
    {
     "name": "stdout",
     "output_type": "stream",
     "text": [
      "no data to interpolate\n",
      "no data to interpolate\n",
      "no data to interpolate\n",
      "no data to interpolate\n",
      "no data to interpolate\n",
      "no data to interpolate\n",
      "no data to interpolate\n",
      "no data to interpolate\n",
      "no data to interpolate\n",
      "no data to interpolate\n",
      "no data to interpolate\n",
      "no data to interpolate\n",
      "no data to interpolate\n",
      "no data to interpolate\n",
      "no data to interpolate\n",
      "no data to interpolate\n",
      "no data to interpolate\n",
      "no data to interpolate\n",
      "no data to interpolate\n",
      "no data to interpolate\n",
      "no data to interpolate\n",
      "no data to interpolate\n",
      "no data to interpolate\n",
      "no data to interpolate\n",
      "no data to interpolate\n",
      "no data to interpolate\n",
      "no data to interpolate\n",
      "no data to interpolate\n",
      "no data to interpolate\n",
      "no data to interpolate\n",
      "no data to interpolate\n",
      "no data to interpolate\n",
      "no data to interpolate\n",
      "no data to interpolate\n",
      "no data to interpolate\n",
      "no data to interpolate\n",
      "no data to interpolate\n",
      "no data to interpolate\n",
      "no data to interpolate\n",
      "no data to interpolate\n",
      "no data to interpolate\n",
      "no data to interpolate\n",
      "no data to interpolate\n",
      "no data to interpolate\n",
      "no data to interpolate\n",
      "no data to interpolate\n",
      "no data to interpolate\n",
      "no data to interpolate\n",
      "no data to interpolate\n",
      "no data to interpolate\n",
      "no data to interpolate\n",
      "no data to interpolate\n",
      "no data to interpolate\n",
      "no data to interpolate\n",
      "no data to interpolate\n",
      "no data to interpolate\n",
      "no data to interpolate\n",
      "no data to interpolate\n",
      "no data to interpolate\n",
      "no data to interpolate\n",
      "no data to interpolate\n",
      "no data to interpolate\n"
     ]
    }
   ],
   "source": [
    "interpolate_cols = ['StringencyIndexForDisplay', 'StringencyLegacyIndexForDisplay', 'GovernmentResponseIndexForDisplay',\n",
    "                   'ContainmentHealthIndexForDisplay', 'EconomicSupportIndexForDisplay', 'ConfirmedCases','ConfirmedDeaths']\n",
    "for col in interpolate_cols: \n",
    "    oxford_df[col].fillna(0, inplace = True)\n",
    "    for country_code in oxford_df['CountryCode'].unique(): \n",
    "        ts_data = np.array(oxford_df[col]\\\n",
    "                                [oxford_df['CountryCode'] == country_code])\n",
    "        if len(ts_data) != OXFORD_LENGTH_OF_TIME !=146:\n",
    "            oxford_df.drop(np.where(google_df['CountryCode'] == country_code)[0], inplace = True)\n",
    "            oxford_df.reset_index(drop = True, inplace = True)\n",
    "        else: \n",
    "            oxford_df[col][oxford_df['CountryCode'] == country_code] \\\n",
    "            = interpolate_data(ts_data)"
   ]
  },
  {
   "cell_type": "code",
   "execution_count": 9,
   "metadata": {},
   "outputs": [],
   "source": [
    "oxford_df[oxford_df['EconomicSupportIndexForDisplay'].isnull()].to_csv('hand_analyze.csv')"
   ]
  },
  {
   "cell_type": "code",
   "execution_count": 10,
   "metadata": {},
   "outputs": [],
   "source": [
    "oxford_df.to_csv('../processed_data/oxford_dataset.csv')"
   ]
  },
  {
   "cell_type": "code",
   "execution_count": null,
   "metadata": {},
   "outputs": [],
   "source": []
  }
 ],
 "metadata": {
  "kernelspec": {
   "display_name": "Python 3",
   "language": "python",
   "name": "python3"
  },
  "language_info": {
   "codemirror_mode": {
    "name": "ipython",
    "version": 3
   },
   "file_extension": ".py",
   "mimetype": "text/x-python",
   "name": "python",
   "nbconvert_exporter": "python",
   "pygments_lexer": "ipython3",
   "version": "3.7.4"
  }
 },
 "nbformat": 4,
 "nbformat_minor": 2
}
