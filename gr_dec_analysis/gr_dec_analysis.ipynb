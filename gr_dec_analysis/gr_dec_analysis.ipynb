{
 "cells": [
  {
   "cell_type": "code",
   "execution_count": 1,
   "metadata": {},
   "outputs": [],
   "source": [
    "import scipy.io\n",
    "import numpy as np\n",
    "import pandas as pd\n",
    "import csv\n",
    "\n",
    "import matplotlib.pyplot as plt\n",
    "import matplotlib\n",
    "\n",
    "import warnings\n",
    "from datascience import Table\n",
    "import random\n",
    "from scipy.signal import savgol_filter\n",
    "import statsmodels.api as sm\n",
    "from datascience.predicates import are"
   ]
  },
  {
   "cell_type": "code",
   "execution_count": 2,
   "metadata": {},
   "outputs": [
    {
     "data": {
      "text/html": [
       "<table border=\"1\" class=\"dataframe\">\n",
       "    <thead>\n",
       "        <tr>\n",
       "            <th>Unnamed: 0</th> <th>CountryName</th> <th>CountryCode</th> <th>Date</th> <th>C1_School closing</th> <th>C1_Flag</th> <th>C2_Workplace closing</th> <th>C2_Flag</th> <th>C3_Cancel public events</th> <th>C3_Flag</th> <th>C4_Restrictions on gatherings</th> <th>C4_Flag</th> <th>C5_Close public transport</th> <th>C5_Flag</th> <th>C6_Stay at home requirements</th> <th>C6_Flag</th> <th>C7_Restrictions on internal movement</th> <th>C7_Flag</th> <th>C8_International travel controls</th> <th>E1_Income support</th> <th>E1_Flag</th> <th>E2_Debt/contract relief</th> <th>E3_Fiscal measures</th> <th>E4_International support</th> <th>H1_Public information campaigns</th> <th>H1_Flag</th> <th>H2_Testing policy</th> <th>H3_Contact tracing</th> <th>H4_Emergency investment in healthcare</th> <th>H5_Investment in vaccines</th> <th>M1_Wildcard</th> <th>ConfirmedCases</th> <th>ConfirmedDeaths</th> <th>StringencyIndex</th> <th>StringencyIndexForDisplay</th> <th>StringencyLegacyIndex</th> <th>StringencyLegacyIndexForDisplay</th> <th>GovernmentResponseIndex</th> <th>GovernmentResponseIndexForDisplay</th> <th>ContainmentHealthIndex</th> <th>ContainmentHealthIndexForDisplay</th> <th>EconomicSupportIndex</th> <th>EconomicSupportIndexForDisplay</th> <th>date</th> <th>retail_and_recreation_percent_change_from_baseline</th> <th>grocery_and_pharmacy_percent_change_from_baseline</th> <th>parks_percent_change_from_baseline</th> <th>transit_stations_percent_change_from_baseline</th> <th>workplaces_percent_change_from_baseline</th> <th>residential_percent_change_from_baseline</th>\n",
       "        </tr>\n",
       "    </thead>\n",
       "    <tbody>\n",
       "        <tr>\n",
       "            <td>0         </td> <td>Aruba      </td> <td>ABW        </td> <td>2020-02-15</td> <td>0                </td> <td>nan    </td> <td>0                   </td> <td>nan    </td> <td>0                      </td> <td>nan    </td> <td>0                            </td> <td>nan    </td> <td>0                        </td> <td>nan    </td> <td>0                           </td> <td>nan    </td> <td>0                                   </td> <td>nan    </td> <td>0                               </td> <td>0                </td> <td>nan    </td> <td>0                      </td> <td>0                 </td> <td>0                       </td> <td>0                              </td> <td>nan    </td> <td>0                </td> <td>0                 </td> <td>0                                    </td> <td>0                        </td> <td>nan        </td> <td>0             </td> <td>0              </td> <td>0              </td> <td>0                        </td> <td>0                    </td> <td>0                              </td> <td>0                      </td> <td>0                                </td> <td>0                     </td> <td>0                               </td> <td>0                   </td> <td>0                             </td> <td>2020-02-15</td> <td>2                                                 </td> <td>3                                                </td> <td>12                                </td> <td>26                                           </td> <td>-2                                     </td> <td>-2                                      </td>\n",
       "        </tr>\n",
       "        <tr>\n",
       "            <td>1         </td> <td>Aruba      </td> <td>ABW        </td> <td>2020-02-16</td> <td>0                </td> <td>nan    </td> <td>0                   </td> <td>nan    </td> <td>0                      </td> <td>nan    </td> <td>0                            </td> <td>nan    </td> <td>0                        </td> <td>nan    </td> <td>0                           </td> <td>nan    </td> <td>0                                   </td> <td>nan    </td> <td>0                               </td> <td>0                </td> <td>nan    </td> <td>0                      </td> <td>0                 </td> <td>0                       </td> <td>0                              </td> <td>nan    </td> <td>0                </td> <td>0                 </td> <td>0                                    </td> <td>0                        </td> <td>nan        </td> <td>0             </td> <td>0              </td> <td>0              </td> <td>0                        </td> <td>0                    </td> <td>0                              </td> <td>0                      </td> <td>0                                </td> <td>0                     </td> <td>0                               </td> <td>0                   </td> <td>0                             </td> <td>2020-02-16</td> <td>-1                                                </td> <td>-9                                               </td> <td>4                                 </td> <td>1                                            </td> <td>-1                                     </td> <td>2                                       </td>\n",
       "        </tr>\n",
       "        <tr>\n",
       "            <td>2         </td> <td>Aruba      </td> <td>ABW        </td> <td>2020-02-17</td> <td>0                </td> <td>nan    </td> <td>0                   </td> <td>nan    </td> <td>0                      </td> <td>nan    </td> <td>0                            </td> <td>nan    </td> <td>0                        </td> <td>nan    </td> <td>0                           </td> <td>nan    </td> <td>0                                   </td> <td>nan    </td> <td>0                               </td> <td>0                </td> <td>nan    </td> <td>0                      </td> <td>0                 </td> <td>0                       </td> <td>0                              </td> <td>nan    </td> <td>0                </td> <td>0                 </td> <td>0                                    </td> <td>0                        </td> <td>nan        </td> <td>0             </td> <td>0              </td> <td>0              </td> <td>0                        </td> <td>0                    </td> <td>0                              </td> <td>0                      </td> <td>0                                </td> <td>0                     </td> <td>0                               </td> <td>0                   </td> <td>0                             </td> <td>2020-02-17</td> <td>-1                                                </td> <td>-1                                               </td> <td>16                                </td> <td>-4                                           </td> <td>-20                                    </td> <td>6                                       </td>\n",
       "        </tr>\n",
       "        <tr>\n",
       "            <td>3         </td> <td>Aruba      </td> <td>ABW        </td> <td>2020-02-18</td> <td>0                </td> <td>nan    </td> <td>0                   </td> <td>nan    </td> <td>0                      </td> <td>nan    </td> <td>0                            </td> <td>nan    </td> <td>0                        </td> <td>nan    </td> <td>0                           </td> <td>nan    </td> <td>0                                   </td> <td>nan    </td> <td>0                               </td> <td>0                </td> <td>nan    </td> <td>0                      </td> <td>0                 </td> <td>0                       </td> <td>0                              </td> <td>nan    </td> <td>0                </td> <td>0                 </td> <td>0                                    </td> <td>0                        </td> <td>nan        </td> <td>0             </td> <td>0              </td> <td>0              </td> <td>0                        </td> <td>0                    </td> <td>0                              </td> <td>0                      </td> <td>0                                </td> <td>0                     </td> <td>0                               </td> <td>0                   </td> <td>0                             </td> <td>2020-02-18</td> <td>-2                                                </td> <td>-5                                               </td> <td>8                                 </td> <td>2                                            </td> <td>-13                                    </td> <td>4                                       </td>\n",
       "        </tr>\n",
       "        <tr>\n",
       "            <td>4         </td> <td>Aruba      </td> <td>ABW        </td> <td>2020-02-19</td> <td>0                </td> <td>nan    </td> <td>0                   </td> <td>nan    </td> <td>0                      </td> <td>nan    </td> <td>0                            </td> <td>nan    </td> <td>0                        </td> <td>nan    </td> <td>0                           </td> <td>nan    </td> <td>0                                   </td> <td>nan    </td> <td>0                               </td> <td>0                </td> <td>nan    </td> <td>0                      </td> <td>0                 </td> <td>0                       </td> <td>0                              </td> <td>nan    </td> <td>0                </td> <td>0                 </td> <td>0                                    </td> <td>0                        </td> <td>nan        </td> <td>0             </td> <td>0              </td> <td>0              </td> <td>0                        </td> <td>0                    </td> <td>0                              </td> <td>0                      </td> <td>0                                </td> <td>0                     </td> <td>0                               </td> <td>0                   </td> <td>0                             </td> <td>2020-02-19</td> <td>1                                                 </td> <td>-8                                               </td> <td>3                                 </td> <td>4                                            </td> <td>-14                                    </td> <td>4                                       </td>\n",
       "        </tr>\n",
       "        <tr>\n",
       "            <td>5         </td> <td>Aruba      </td> <td>ABW        </td> <td>2020-02-20</td> <td>0                </td> <td>nan    </td> <td>0                   </td> <td>nan    </td> <td>0                      </td> <td>nan    </td> <td>0                            </td> <td>nan    </td> <td>0                        </td> <td>nan    </td> <td>0                           </td> <td>nan    </td> <td>0                                   </td> <td>nan    </td> <td>0                               </td> <td>0                </td> <td>nan    </td> <td>0                      </td> <td>0                 </td> <td>0                       </td> <td>0                              </td> <td>nan    </td> <td>0                </td> <td>0                 </td> <td>0                                    </td> <td>0                        </td> <td>nan        </td> <td>0             </td> <td>0              </td> <td>0              </td> <td>0                        </td> <td>0                    </td> <td>0                              </td> <td>0                      </td> <td>0                                </td> <td>0                     </td> <td>0                               </td> <td>0                   </td> <td>0                             </td> <td>2020-02-20</td> <td>4                                                 </td> <td>-1                                               </td> <td>0                                 </td> <td>29                                           </td> <td>-13                                    </td> <td>1                                       </td>\n",
       "        </tr>\n",
       "        <tr>\n",
       "            <td>6         </td> <td>Aruba      </td> <td>ABW        </td> <td>2020-02-21</td> <td>0                </td> <td>nan    </td> <td>0                   </td> <td>nan    </td> <td>0                      </td> <td>nan    </td> <td>0                            </td> <td>nan    </td> <td>0                        </td> <td>nan    </td> <td>0                           </td> <td>nan    </td> <td>0                                   </td> <td>nan    </td> <td>0                               </td> <td>0                </td> <td>nan    </td> <td>0                      </td> <td>0                 </td> <td>0                       </td> <td>0                              </td> <td>nan    </td> <td>0                </td> <td>0                 </td> <td>0                                    </td> <td>0                        </td> <td>nan        </td> <td>0             </td> <td>0              </td> <td>0              </td> <td>0                        </td> <td>0                    </td> <td>0                              </td> <td>0                      </td> <td>0                                </td> <td>0                     </td> <td>0                               </td> <td>0                   </td> <td>0                             </td> <td>2020-02-21</td> <td>7                                                 </td> <td>9                                                </td> <td>9                                 </td> <td>1                                            </td> <td>-15                                    </td> <td>1                                       </td>\n",
       "        </tr>\n",
       "        <tr>\n",
       "            <td>7         </td> <td>Aruba      </td> <td>ABW        </td> <td>2020-02-22</td> <td>0                </td> <td>nan    </td> <td>0                   </td> <td>nan    </td> <td>0                      </td> <td>nan    </td> <td>0                            </td> <td>nan    </td> <td>0                        </td> <td>nan    </td> <td>0                           </td> <td>nan    </td> <td>0                                   </td> <td>nan    </td> <td>0                               </td> <td>0                </td> <td>nan    </td> <td>0                      </td> <td>0                 </td> <td>0                       </td> <td>0                              </td> <td>nan    </td> <td>0                </td> <td>0                 </td> <td>0                                    </td> <td>0                        </td> <td>nan        </td> <td>0             </td> <td>0              </td> <td>0              </td> <td>0                        </td> <td>0                    </td> <td>0                              </td> <td>0                      </td> <td>0                                </td> <td>0                     </td> <td>0                               </td> <td>0                   </td> <td>0                             </td> <td>2020-02-22</td> <td>-2                                                </td> <td>10                                               </td> <td>-4                                </td> <td>13                                           </td> <td>-6                                     </td> <td>-2                                      </td>\n",
       "        </tr>\n",
       "        <tr>\n",
       "            <td>8         </td> <td>Aruba      </td> <td>ABW        </td> <td>2020-02-23</td> <td>0                </td> <td>nan    </td> <td>0                   </td> <td>nan    </td> <td>0                      </td> <td>nan    </td> <td>0                            </td> <td>nan    </td> <td>0                        </td> <td>nan    </td> <td>0                           </td> <td>nan    </td> <td>0                                   </td> <td>nan    </td> <td>0                               </td> <td>0                </td> <td>nan    </td> <td>0                      </td> <td>0                 </td> <td>0                       </td> <td>0                              </td> <td>nan    </td> <td>0                </td> <td>0                 </td> <td>0                                    </td> <td>0                        </td> <td>nan        </td> <td>0             </td> <td>0              </td> <td>0              </td> <td>0                        </td> <td>0                    </td> <td>0                              </td> <td>0                      </td> <td>0                                </td> <td>0                     </td> <td>0                               </td> <td>0                   </td> <td>0                             </td> <td>2020-02-23</td> <td>14                                                </td> <td>-15                                              </td> <td>21                                </td> <td>16                                           </td> <td>-8                                     </td> <td>-5                                      </td>\n",
       "        </tr>\n",
       "        <tr>\n",
       "            <td>9         </td> <td>Aruba      </td> <td>ABW        </td> <td>2020-02-24</td> <td>0                </td> <td>nan    </td> <td>0                   </td> <td>nan    </td> <td>0                      </td> <td>nan    </td> <td>0                            </td> <td>nan    </td> <td>0                        </td> <td>nan    </td> <td>0                           </td> <td>nan    </td> <td>0                                   </td> <td>nan    </td> <td>0                               </td> <td>0                </td> <td>nan    </td> <td>0                      </td> <td>0                 </td> <td>0                       </td> <td>0                              </td> <td>nan    </td> <td>0                </td> <td>0                 </td> <td>0                                    </td> <td>0                        </td> <td>nan        </td> <td>0             </td> <td>0              </td> <td>0              </td> <td>0                        </td> <td>0                    </td> <td>0                              </td> <td>0                      </td> <td>0                                </td> <td>0                     </td> <td>0                               </td> <td>0                   </td> <td>0                             </td> <td>2020-02-24</td> <td>-23                                               </td> <td>-30                                              </td> <td>24                                </td> <td>-18                                          </td> <td>-62                                    </td> <td>18                                      </td>\n",
       "        </tr>\n",
       "    </tbody>\n",
       "</table>\n",
       "<p>... (10478 rows omitted)</p>"
      ],
      "text/plain": [
       "Unnamed: 0 | CountryName | CountryCode | Date       | C1_School closing | C1_Flag | C2_Workplace closing | C2_Flag | C3_Cancel public events | C3_Flag | C4_Restrictions on gatherings | C4_Flag | C5_Close public transport | C5_Flag | C6_Stay at home requirements | C6_Flag | C7_Restrictions on internal movement | C7_Flag | C8_International travel controls | E1_Income support | E1_Flag | E2_Debt/contract relief | E3_Fiscal measures | E4_International support | H1_Public information campaigns | H1_Flag | H2_Testing policy | H3_Contact tracing | H4_Emergency investment in healthcare | H5_Investment in vaccines | M1_Wildcard | ConfirmedCases | ConfirmedDeaths | StringencyIndex | StringencyIndexForDisplay | StringencyLegacyIndex | StringencyLegacyIndexForDisplay | GovernmentResponseIndex | GovernmentResponseIndexForDisplay | ContainmentHealthIndex | ContainmentHealthIndexForDisplay | EconomicSupportIndex | EconomicSupportIndexForDisplay | date       | retail_and_recreation_percent_change_from_baseline | grocery_and_pharmacy_percent_change_from_baseline | parks_percent_change_from_baseline | transit_stations_percent_change_from_baseline | workplaces_percent_change_from_baseline | residential_percent_change_from_baseline\n",
       "0          | Aruba       | ABW         | 2020-02-15 | 0                 | nan     | 0                    | nan     | 0                       | nan     | 0                             | nan     | 0                         | nan     | 0                            | nan     | 0                                    | nan     | 0                                | 0                 | nan     | 0                       | 0                  | 0                        | 0                               | nan     | 0                 | 0                  | 0                                     | 0                         | nan         | 0              | 0               | 0               | 0                         | 0                     | 0                               | 0                       | 0                                 | 0                      | 0                                | 0                    | 0                              | 2020-02-15 | 2                                                  | 3                                                 | 12                                 | 26                                            | -2                                      | -2\n",
       "1          | Aruba       | ABW         | 2020-02-16 | 0                 | nan     | 0                    | nan     | 0                       | nan     | 0                             | nan     | 0                         | nan     | 0                            | nan     | 0                                    | nan     | 0                                | 0                 | nan     | 0                       | 0                  | 0                        | 0                               | nan     | 0                 | 0                  | 0                                     | 0                         | nan         | 0              | 0               | 0               | 0                         | 0                     | 0                               | 0                       | 0                                 | 0                      | 0                                | 0                    | 0                              | 2020-02-16 | -1                                                 | -9                                                | 4                                  | 1                                             | -1                                      | 2\n",
       "2          | Aruba       | ABW         | 2020-02-17 | 0                 | nan     | 0                    | nan     | 0                       | nan     | 0                             | nan     | 0                         | nan     | 0                            | nan     | 0                                    | nan     | 0                                | 0                 | nan     | 0                       | 0                  | 0                        | 0                               | nan     | 0                 | 0                  | 0                                     | 0                         | nan         | 0              | 0               | 0               | 0                         | 0                     | 0                               | 0                       | 0                                 | 0                      | 0                                | 0                    | 0                              | 2020-02-17 | -1                                                 | -1                                                | 16                                 | -4                                            | -20                                     | 6\n",
       "3          | Aruba       | ABW         | 2020-02-18 | 0                 | nan     | 0                    | nan     | 0                       | nan     | 0                             | nan     | 0                         | nan     | 0                            | nan     | 0                                    | nan     | 0                                | 0                 | nan     | 0                       | 0                  | 0                        | 0                               | nan     | 0                 | 0                  | 0                                     | 0                         | nan         | 0              | 0               | 0               | 0                         | 0                     | 0                               | 0                       | 0                                 | 0                      | 0                                | 0                    | 0                              | 2020-02-18 | -2                                                 | -5                                                | 8                                  | 2                                             | -13                                     | 4\n",
       "4          | Aruba       | ABW         | 2020-02-19 | 0                 | nan     | 0                    | nan     | 0                       | nan     | 0                             | nan     | 0                         | nan     | 0                            | nan     | 0                                    | nan     | 0                                | 0                 | nan     | 0                       | 0                  | 0                        | 0                               | nan     | 0                 | 0                  | 0                                     | 0                         | nan         | 0              | 0               | 0               | 0                         | 0                     | 0                               | 0                       | 0                                 | 0                      | 0                                | 0                    | 0                              | 2020-02-19 | 1                                                  | -8                                                | 3                                  | 4                                             | -14                                     | 4\n",
       "5          | Aruba       | ABW         | 2020-02-20 | 0                 | nan     | 0                    | nan     | 0                       | nan     | 0                             | nan     | 0                         | nan     | 0                            | nan     | 0                                    | nan     | 0                                | 0                 | nan     | 0                       | 0                  | 0                        | 0                               | nan     | 0                 | 0                  | 0                                     | 0                         | nan         | 0              | 0               | 0               | 0                         | 0                     | 0                               | 0                       | 0                                 | 0                      | 0                                | 0                    | 0                              | 2020-02-20 | 4                                                  | -1                                                | 0                                  | 29                                            | -13                                     | 1\n",
       "6          | Aruba       | ABW         | 2020-02-21 | 0                 | nan     | 0                    | nan     | 0                       | nan     | 0                             | nan     | 0                         | nan     | 0                            | nan     | 0                                    | nan     | 0                                | 0                 | nan     | 0                       | 0                  | 0                        | 0                               | nan     | 0                 | 0                  | 0                                     | 0                         | nan         | 0              | 0               | 0               | 0                         | 0                     | 0                               | 0                       | 0                                 | 0                      | 0                                | 0                    | 0                              | 2020-02-21 | 7                                                  | 9                                                 | 9                                  | 1                                             | -15                                     | 1\n",
       "7          | Aruba       | ABW         | 2020-02-22 | 0                 | nan     | 0                    | nan     | 0                       | nan     | 0                             | nan     | 0                         | nan     | 0                            | nan     | 0                                    | nan     | 0                                | 0                 | nan     | 0                       | 0                  | 0                        | 0                               | nan     | 0                 | 0                  | 0                                     | 0                         | nan         | 0              | 0               | 0               | 0                         | 0                     | 0                               | 0                       | 0                                 | 0                      | 0                                | 0                    | 0                              | 2020-02-22 | -2                                                 | 10                                                | -4                                 | 13                                            | -6                                      | -2\n",
       "8          | Aruba       | ABW         | 2020-02-23 | 0                 | nan     | 0                    | nan     | 0                       | nan     | 0                             | nan     | 0                         | nan     | 0                            | nan     | 0                                    | nan     | 0                                | 0                 | nan     | 0                       | 0                  | 0                        | 0                               | nan     | 0                 | 0                  | 0                                     | 0                         | nan         | 0              | 0               | 0               | 0                         | 0                     | 0                               | 0                       | 0                                 | 0                      | 0                                | 0                    | 0                              | 2020-02-23 | 14                                                 | -15                                               | 21                                 | 16                                            | -8                                      | -5\n",
       "9          | Aruba       | ABW         | 2020-02-24 | 0                 | nan     | 0                    | nan     | 0                       | nan     | 0                             | nan     | 0                         | nan     | 0                            | nan     | 0                                    | nan     | 0                                | 0                 | nan     | 0                       | 0                  | 0                        | 0                               | nan     | 0                 | 0                  | 0                                     | 0                         | nan         | 0              | 0               | 0               | 0                         | 0                     | 0                               | 0                       | 0                                 | 0                      | 0                                | 0                    | 0                              | 2020-02-24 | -23                                                | -30                                               | 24                                 | -18                                           | -62                                     | 18\n",
       "... (10478 rows omitted)"
      ]
     },
     "execution_count": 2,
     "metadata": {},
     "output_type": "execute_result"
    }
   ],
   "source": [
    "df = pd.read_csv(\"../processed_data/master_dataset.csv\")\n",
    "\n",
    "table = Table.from_df(df)\n",
    "table"
   ]
  },
  {
   "cell_type": "code",
   "execution_count": 3,
   "metadata": {},
   "outputs": [
    {
     "data": {
      "text/plain": [
       "Index(['Unnamed: 0', 'CountryName', 'CountryCode', 'Date', 'C1_School closing',\n",
       "       'C1_Flag', 'C2_Workplace closing', 'C2_Flag', 'C3_Cancel public events',\n",
       "       'C3_Flag', 'C4_Restrictions on gatherings', 'C4_Flag',\n",
       "       'C5_Close public transport', 'C5_Flag', 'C6_Stay at home requirements',\n",
       "       'C6_Flag', 'C7_Restrictions on internal movement', 'C7_Flag',\n",
       "       'C8_International travel controls', 'E1_Income support', 'E1_Flag',\n",
       "       'E2_Debt/contract relief', 'E3_Fiscal measures',\n",
       "       'E4_International support', 'H1_Public information campaigns',\n",
       "       'H1_Flag', 'H2_Testing policy', 'H3_Contact tracing',\n",
       "       'H4_Emergency investment in healthcare', 'H5_Investment in vaccines',\n",
       "       'M1_Wildcard', 'ConfirmedCases', 'ConfirmedDeaths', 'StringencyIndex',\n",
       "       'StringencyIndexForDisplay', 'StringencyLegacyIndex',\n",
       "       'StringencyLegacyIndexForDisplay', 'GovernmentResponseIndex',\n",
       "       'GovernmentResponseIndexForDisplay', 'ContainmentHealthIndex',\n",
       "       'ContainmentHealthIndexForDisplay', 'EconomicSupportIndex',\n",
       "       'EconomicSupportIndexForDisplay', 'date',\n",
       "       'retail_and_recreation_percent_change_from_baseline',\n",
       "       'grocery_and_pharmacy_percent_change_from_baseline',\n",
       "       'parks_percent_change_from_baseline',\n",
       "       'transit_stations_percent_change_from_baseline',\n",
       "       'workplaces_percent_change_from_baseline',\n",
       "       'residential_percent_change_from_baseline'],\n",
       "      dtype='object')"
      ]
     },
     "execution_count": 3,
     "metadata": {},
     "output_type": "execute_result"
    }
   ],
   "source": [
    "df.columns"
   ]
  },
  {
   "cell_type": "code",
   "execution_count": 4,
   "metadata": {},
   "outputs": [
    {
     "name": "stdout",
     "output_type": "stream",
     "text": [
      "greatest dec: 29\n",
      "first case: 27\n",
      "containment+health imp: 24\n",
      "economic imp: 46\n",
      "overall imp: 24\n"
     ]
    },
    {
     "data": {
      "image/png": "[encoded data removed]",
      "text/plain": [
       "<Figure size 432x288 with 1 Axes>"
      ]
     },
     "metadata": {
      "needs_background": "light"
     },
     "output_type": "display_data"
    }
   ],
   "source": [
    "#mobility aggregate\n",
    "mob = table.where(\"CountryName\", \"Aruba\")[44]\n",
    "for i in range(45, 50):\n",
    "    mob += table.where(\"CountryName\", \"Aruba\")[i]\n",
    "\n",
    "mob_sg = savgol_filter(mob, 25, 3)\n",
    "plt.plot(np.arange(len(mob)), mob)\n",
    "plt.plot(np.arange(len(mob)), mob_sg)\n",
    "plt.plot(np.argmin(np.gradient(mob_sg, 1)), mob_sg[np.argmin(np.gradient(mob_sg, 1))], marker = 'o')\n",
    "\n",
    "print(\"greatest dec: \" + str(np.argmin(np.gradient(mob_sg, 1))))\n",
    "\n",
    "print(\"first case: \" + str(np.nonzero(table.where(\"CountryName\", \"Aruba\")['ConfirmedCases'])[0][0]))\n",
    "\n",
    "print(\"containment+health imp: \" + str(np.nonzero(table.where(\"CountryName\", \"Aruba\")['ContainmentHealthIndexForDisplay'])[0][0]))\n",
    "\n",
    "print(\"economic imp: \" + str(np.nonzero(table.where(\"CountryName\", \"Aruba\")['EconomicSupportIndexForDisplay'])[0][0]))\n",
    "\n",
    "print(\"overall imp: \" + str(np.nonzero(table.where(\"CountryName\", \"Aruba\")['GovernmentResponseIndexForDisplay'])[0][0]))\n"
   ]
  },
  {
   "cell_type": "code",
   "execution_count": 5,
   "metadata": {},
   "outputs": [
    {
     "data": {
      "text/plain": [
       "2.6315789473684212"
      ]
     },
     "execution_count": 5,
     "metadata": {},
     "output_type": "execute_result"
    }
   ],
   "source": [
    "t = table.where(\"CountryName\", \"Aruba\")['C2_Workplace closing']\n",
    "t[t == 0] = np.nan\n",
    "mean = np.nanmean(t)\n",
    "mean"
   ]
  },
  {
   "cell_type": "code",
   "execution_count": 6,
   "metadata": {},
   "outputs": [
    {
     "name": "stdout",
     "output_type": "stream",
     "text": [
      "[0. 3.]\n",
      "[0. 2. 3.]\n",
      "[0. 2.]\n",
      "[0. 4.]\n",
      "[0.]\n",
      "[0. 1. 2. 3.]\n",
      "[0. 2.]\n",
      "[0. 3. 4.]\n",
      "[0. 2.]\n",
      "[0.]\n",
      "[0.]\n",
      "[0.]\n",
      "[0. 2.]\n",
      "[0. 1.]\n",
      "[0. 1.]\n",
      "[0.]\n",
      "[0.]\n"
     ]
    }
   ],
   "source": [
    "print(np.unique(table.where(\"CountryName\", \"Aruba\")['C1_School closing']))\n",
    "print(np.unique(table.where(\"CountryName\", \"Aruba\")['C2_Workplace closing']))\n",
    "print(np.unique(table.where(\"CountryName\", \"Aruba\")['C3_Cancel public events']))\n",
    "print(np.unique(table.where(\"CountryName\", \"Aruba\")['C4_Restrictions on gatherings']))\n",
    "print(np.unique(table.where(\"CountryName\", \"Aruba\")['C5_Close public transport']))\n",
    "print(np.unique(table.where(\"CountryName\", \"Aruba\")['C6_Stay at home requirements']))\n",
    "print(np.unique(table.where(\"CountryName\", \"Aruba\")['C7_Restrictions on internal movement']))\n",
    "print(np.unique(table.where(\"CountryName\", \"Aruba\")['C8_International travel controls']))\n",
    "print(np.unique(table.where(\"CountryName\", \"Aruba\")['E1_Income support']))\n",
    "print(np.unique(table.where(\"CountryName\", \"Aruba\")['E2_Debt/contract relief']))\n",
    "print(np.unique(table.where(\"CountryName\", \"Aruba\")['E3_Fiscal measures']))\n",
    "print(np.unique(table.where(\"CountryName\", \"Aruba\")['E4_International support']))\n",
    "print(np.unique(table.where(\"CountryName\", \"Aruba\")['H1_Public information campaigns']))\n",
    "print(np.unique(table.where(\"CountryName\", \"Aruba\")['H2_Testing policy']))\n",
    "print(np.unique(table.where(\"CountryName\", \"Aruba\")['H3_Contact tracing']))\n",
    "print(np.unique(table.where(\"CountryName\", \"Aruba\")['H4_Emergency investment in healthcare']))\n",
    "print(np.unique(table.where(\"CountryName\", \"Aruba\")['H5_Investment in vaccines']))"
   ]
  },
  {
   "cell_type": "code",
   "execution_count": 7,
   "metadata": {},
   "outputs": [],
   "source": [
    "countries = df['CountryName'].unique()"
   ]
  },
  {
   "cell_type": "code",
   "execution_count": 8,
   "metadata": {},
   "outputs": [
    {
     "name": "stderr",
     "output_type": "stream",
     "text": [
      "/Users/amyjang/anaconda3/lib/python3.7/site-packages/ipykernel_launcher.py:68: RuntimeWarning: Mean of empty slice\n",
      "/Users/amyjang/anaconda3/lib/python3.7/site-packages/ipykernel_launcher.py:88: RuntimeWarning: Mean of empty slice\n",
      "/Users/amyjang/anaconda3/lib/python3.7/site-packages/ipykernel_launcher.py:92: RuntimeWarning: Mean of empty slice\n",
      "/Users/amyjang/anaconda3/lib/python3.7/site-packages/ipykernel_launcher.py:96: RuntimeWarning: Mean of empty slice\n",
      "/Users/amyjang/anaconda3/lib/python3.7/site-packages/ipykernel_launcher.py:112: RuntimeWarning: Mean of empty slice\n",
      "/Users/amyjang/anaconda3/lib/python3.7/site-packages/ipykernel_launcher.py:116: RuntimeWarning: Mean of empty slice\n",
      "/Users/amyjang/anaconda3/lib/python3.7/site-packages/ipykernel_launcher.py:84: RuntimeWarning: Mean of empty slice\n",
      "/Users/amyjang/anaconda3/lib/python3.7/site-packages/ipykernel_launcher.py:108: RuntimeWarning: Mean of empty slice\n",
      "/Users/amyjang/anaconda3/lib/python3.7/site-packages/ipykernel_launcher.py:56: RuntimeWarning: Mean of empty slice\n",
      "/Users/amyjang/anaconda3/lib/python3.7/site-packages/ipykernel_launcher.py:72: RuntimeWarning: Mean of empty slice\n",
      "/Users/amyjang/anaconda3/lib/python3.7/site-packages/ipykernel_launcher.py:60: RuntimeWarning: Mean of empty slice\n",
      "/Users/amyjang/anaconda3/lib/python3.7/site-packages/ipykernel_launcher.py:64: RuntimeWarning: Mean of empty slice\n",
      "/Users/amyjang/anaconda3/lib/python3.7/site-packages/ipykernel_launcher.py:76: RuntimeWarning: Mean of empty slice\n",
      "/Users/amyjang/anaconda3/lib/python3.7/site-packages/ipykernel_launcher.py:104: RuntimeWarning: Mean of empty slice\n",
      "/Users/amyjang/anaconda3/lib/python3.7/site-packages/ipykernel_launcher.py:80: RuntimeWarning: Mean of empty slice\n",
      "/Users/amyjang/anaconda3/lib/python3.7/site-packages/ipykernel_launcher.py:100: RuntimeWarning: Mean of empty slice\n",
      "/Users/amyjang/anaconda3/lib/python3.7/site-packages/ipykernel_launcher.py:52: RuntimeWarning: Mean of empty slice\n"
     ]
    }
   ],
   "source": [
    "response_case = []\n",
    "response_CH = []\n",
    "response_E = []\n",
    "response_G = []\n",
    "C1 = []\n",
    "C2 = []\n",
    "C3 = []\n",
    "C4 = []\n",
    "C5 = []\n",
    "C6 = []\n",
    "C7 = []\n",
    "C8 = []\n",
    "E1 = []\n",
    "E2 = []\n",
    "E3 = []\n",
    "E4 = []\n",
    "H1 = []\n",
    "H2 = []\n",
    "H3 = []\n",
    "H4 = []\n",
    "H5 = []\n",
    "\n",
    "for country in countries:\n",
    "    mob = table.where(\"CountryName\", country)[44]\n",
    "    for i in range(45, 50):\n",
    "        mob += table.where(\"CountryName\", country)[i]\n",
    "\n",
    "    mob_sg = savgol_filter(mob, 25, 3)\n",
    "\n",
    "    try:\n",
    "        response_case.append(np.argmin(np.gradient(mob_sg, 1)) - np.nonzero(table.where(\"CountryName\", country)['ConfirmedCases'])[0][0])\n",
    "    except IndexError:\n",
    "        response_case.append(np.nan)\n",
    "        \n",
    "    try:\n",
    "        response_CH.append(np.argmin(np.gradient(mob_sg, 1)) - np.nonzero(table.where(\"CountryName\", country)['ContainmentHealthIndexForDisplay'])[0][0])\n",
    "    except IndexError:\n",
    "        response_CH.append(np.nan)\n",
    "    \n",
    "    try:\n",
    "        response_E.append(np.argmin(np.gradient(mob_sg, 1)) - np.nonzero(table.where(\"CountryName\", country)['EconomicSupportIndexForDisplay'])[0][0])\n",
    "    except IndexError:\n",
    "        response_E.append(np.nan)\n",
    "    \n",
    "    try:\n",
    "        response_G.append(np.argmin(np.gradient(mob_sg, 1)) - np.nonzero(table.where(\"CountryName\", country)['GovernmentResponseIndexForDisplay'])[0][0])\n",
    "    except IndexError:\n",
    "        response_G.append(np.nan)\n",
    "          \n",
    "    c1 = table.where(\"CountryName\", country)['C1_School closing']\n",
    "    c1[c1 == 0] = np.nan\n",
    "    C1.append(np.nanmean(c1))\n",
    "    \n",
    "    c2 = table.where(\"CountryName\", country)['C2_Workplace closing']\n",
    "    c2[c2 == 0] = np.nan\n",
    "    C2.append(np.nanmean(c2))\n",
    "    \n",
    "    c3 = table.where(\"CountryName\", country)['C3_Cancel public events']\n",
    "    c3[c3 == 0] = np.nan\n",
    "    C3.append(np.nanmean(c3))\n",
    "    \n",
    "    c4 = table.where(\"CountryName\", country)['C4_Restrictions on gatherings']\n",
    "    c4[c4 == 0] = np.nan\n",
    "    C4.append(np.nanmean(c4))\n",
    "    \n",
    "    c5 = table.where(\"CountryName\", country)['C5_Close public transport']\n",
    "    c5[c5 == 0] = np.nan\n",
    "    C5.append(np.nanmean(c5))\n",
    "    \n",
    "    c6 = table.where(\"CountryName\", country)['C6_Stay at home requirements']\n",
    "    c6[c6 == 0] = np.nan\n",
    "    C6.append(np.nanmean(c6))\n",
    "    \n",
    "    c7 = table.where(\"CountryName\", country)['C7_Restrictions on internal movement']\n",
    "    c7[c7 == 0] = np.nan\n",
    "    C7.append(np.nanmean(c7))\n",
    "    \n",
    "    c8 = table.where(\"CountryName\", country)['C8_International travel controls']\n",
    "    c8[c8 == 0] = np.nan\n",
    "    C8.append(np.nanmean(c8))\n",
    "    \n",
    "    e1 = table.where(\"CountryName\", country)['E1_Income support']\n",
    "    e1[e1 == 0] = np.nan\n",
    "    E1.append(np.nanmean(e1))\n",
    "    \n",
    "    e2 = table.where(\"CountryName\", country)['E2_Debt/contract relief']\n",
    "    e2[e2 == 0] = np.nan\n",
    "    E2.append(np.nanmean(e2))\n",
    "    \n",
    "    e3 = table.where(\"CountryName\", country)['E3_Fiscal measures']\n",
    "    e3[e3 == 0] = np.nan\n",
    "    E3.append(np.nanmean(e3))\n",
    "    \n",
    "    e4 = table.where(\"CountryName\", country)['E4_International support']\n",
    "    e4[e4 == 0] = np.nan\n",
    "    E4.append(np.nanmean(e4))\n",
    "    \n",
    "    h1 = table.where(\"CountryName\", country)['H1_Public information campaigns']\n",
    "    h1[h1 == 0] = np.nan\n",
    "    H1.append(np.nanmean(h1))\n",
    "    \n",
    "    h2 = table.where(\"CountryName\", country)['H2_Testing policy']\n",
    "    h2[h2 == 0] = np.nan\n",
    "    H2.append(np.nanmean(h2))\n",
    "    \n",
    "    h3 = table.where(\"CountryName\", country)['H3_Contact tracing']\n",
    "    h3[h3 == 0] = np.nan\n",
    "    H3.append(np.nanmean(h3))\n",
    "    \n",
    "    h4 = table.where(\"CountryName\", country)['H4_Emergency investment in healthcare']\n",
    "    h4[h4 == 0] = np.nan\n",
    "    H4.append(np.nanmean(h4))\n",
    "    \n",
    "    h5 = table.where(\"CountryName\", country)['H5_Investment in vaccines']\n",
    "    h5[h5 == 0] = np.nan\n",
    "    H5.append(np.nanmean(h5))\n",
    "        "
   ]
  },
  {
   "cell_type": "code",
   "execution_count": 9,
   "metadata": {},
   "outputs": [
    {
     "name": "stdout",
     "output_type": "stream",
     "text": [
      "                            OLS Regression Results                            \n",
      "==============================================================================\n",
      "Dep. Variable:                      y   R-squared:                       0.227\n",
      "Model:                            OLS   Adj. R-squared:                  0.090\n",
      "Method:                 Least Squares   F-statistic:                     1.661\n",
      "Date:                Wed, 27 May 2020   Prob (F-statistic):             0.0639\n",
      "Time:                        20:25:50   Log-Likelihood:                 3.9130\n",
      "No. Observations:                 114   AIC:                             28.17\n",
      "Df Residuals:                      96   BIC:                             77.43\n",
      "Df Model:                          17                                         \n",
      "Covariance Type:            nonrobust                                         \n",
      "==============================================================================\n",
      "                 coef    std err          t      P>|t|      [0.025      0.975]\n",
      "------------------------------------------------------------------------------\n",
      "const          0.3002      0.260      1.153      0.252      -0.217       0.817\n",
      "x1            -0.0287      0.087     -0.328      0.744      -0.202       0.145\n",
      "x2             0.0473      0.044      1.072      0.287      -0.040       0.135\n",
      "x3            -0.1604      0.115     -1.394      0.166      -0.389       0.068\n",
      "x4             0.0184      0.031      0.588      0.558      -0.044       0.080\n",
      "x5             0.0300      0.041      0.728      0.468      -0.052       0.112\n",
      "x6            -0.0751      0.050     -1.488      0.140      -0.175       0.025\n",
      "x7            -0.0889      0.063     -1.410      0.162      -0.214       0.036\n",
      "x8             0.0070      0.034      0.205      0.838      -0.061       0.075\n",
      "x9             0.0726      0.038      1.918      0.058      -0.003       0.148\n",
      "x10            0.0009      0.035      0.025      0.980      -0.069       0.070\n",
      "x11         5.687e-14   6.23e-13      0.091      0.927   -1.18e-12    1.29e-12\n",
      "x12         3.089e-13   4.79e-13      0.645      0.520   -6.42e-13    1.26e-12\n",
      "x13            0.1133      0.108      1.048      0.297      -0.101       0.328\n",
      "x14            0.0153      0.043      0.357      0.722      -0.070       0.101\n",
      "x15            0.0412      0.043      0.963      0.338      -0.044       0.126\n",
      "x16         7.472e-13   4.51e-12      0.166      0.869    -8.2e-12    9.69e-12\n",
      "x17         3.063e-12   1.88e-10      0.016      0.987    -3.7e-10    3.76e-10\n",
      "==============================================================================\n",
      "Omnibus:                       29.620   Durbin-Watson:                   1.959\n",
      "Prob(Omnibus):                  0.000   Jarque-Bera (JB):               50.551\n",
      "Skew:                           1.150   Prob(JB):                     1.05e-11\n",
      "Kurtosis:                       5.313   Cond. No.                     1.20e+12\n",
      "==============================================================================\n",
      "\n",
      "Warnings:\n",
      "[1] Standard Errors assume that the covariance matrix of the errors is correctly specified.\n",
      "[2] The condition number is large, 1.2e+12. This might indicate that there are\n",
      "strong multicollinearity or other numerical problems.\n"
     ]
    }
   ],
   "source": [
    "X = np.stack((C1,C2,C3,C4,C5,C6,C7,C8,E1,E2,E3,E4,H1,H2,H3,H4,H5), axis=1)\n",
    "X = sm.add_constant(X)\n",
    "np.nan_to_num(X, copy=False)\n",
    "y = response_case/np.amax(response_case)\n",
    "\n",
    "result=sm.OLS(y,X).fit()\n",
    "print(result.summary())"
   ]
  },
  {
   "cell_type": "code",
   "execution_count": null,
   "metadata": {},
   "outputs": [],
   "source": [
    "policy."
   ]
  },
  {
   "cell_type": "code",
   "execution_count": 99,
   "metadata": {},
   "outputs": [],
   "source": [
    "policy_names = [\"C1\", \"C2\", \"C3\", \"C4\", \"C5\", \"C6\", \"C7\", \"C8\", \"E1\", \"E2\", \"E3\", \"E4\", \"H1\", \"H2\", \"H3\", \"H4\", \"H5\"]\n",
    "\n",
    "policies = []\n",
    "policies.append(C1)\n",
    "policies.append(C2)\n",
    "policies.append(C3)\n",
    "policies.append(C4)\n",
    "policies.append(C5)\n",
    "policies.append(C6)\n",
    "policies.append(C7)\n",
    "policies.append(C8)\n",
    "policies.append(E1)\n",
    "policies.append(E2)\n",
    "policies.append(E3)\n",
    "policies.append(E4)\n",
    "policies.append(H1)\n",
    "policies.append(H2)\n",
    "policies.append(H3)\n",
    "policies.append(H4)\n",
    "policies.append(H5)\n",
    "\n",
    "def divide_policy(policy):\n",
    "    policy_str = policy_names[policies.index(policy)]\n",
    "    Table().with_columns(\"response_case\", response_case/np.amax(response_case), policy_str, np.round_(policy)).group(policy_str, np.mean).to_csv(policy_str + \".csv\")\n",
    "    "
   ]
  },
  {
   "cell_type": "code",
   "execution_count": 100,
   "metadata": {},
   "outputs": [],
   "source": [
    "for policy in policies:\n",
    "    divide_policy(policy)"
   ]
  },
  {
   "cell_type": "code",
   "execution_count": null,
   "metadata": {},
   "outputs": [],
   "source": []
  }
 ],
 "metadata": {
  "kernelspec": {
   "display_name": "Python 3",
   "language": "python",
   "name": "python3"
  },
  "language_info": {
   "codemirror_mode": {
    "name": "ipython",
    "version": 3
   },
   "file_extension": ".py",
   "mimetype": "text/x-python",
   "name": "python",
   "nbconvert_exporter": "python",
   "pygments_lexer": "ipython3",
   "version": "3.7.3"
  }
 },
 "nbformat": 4,
 "nbformat_minor": 2
}
